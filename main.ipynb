{
 "cells": [
  {
   "cell_type": "code",
   "execution_count": 22,
   "metadata": {},
   "outputs": [],
   "source": [
    "from selenium import webdriver\n",
    "from selenium.webdriver.common.keys import Keys\n",
    "import pandas as pd\n",
    "\n",
    "nav = webdriver.Chrome()\n",
    "\n",
    "tabela_produtos = pd.read_excel(\"./buscas.xlsx\")\n",
    "\n",
    "display(tabela_produtos)"
   ]
  },
  {
   "cell_type": "code",
   "execution_count": null,
   "metadata": {},
   "outputs": [
    {
     "name": "stdout",
     "output_type": "stream",
     "text": [
      "3150.99 apple iphone 12 64gb 6.1 azul https://www.google.com/url?url=https://www.tradeinn.com/techinn/pt/apple-iphone-12-64gb-6.1/137821872/p%3Futm_source%3Dgoogle_products%26utm_medium%3Dmerchant%26id_producte%3D11865359%26country%3Dbr%26srsltid%3DAfmBOoo_0r0cQYmikgfirawyVGPo1D72g6noMT76ecC1PoILOTGr3CilN5Y&rct=j&q=&esrc=s&opi=95576897&sa=U&ved=0ahUKEwig0q3F0LyFAxXmpJUCHYIvDxwQgOUECPsP&usg=AOvVaw3l_p_Yabf5LheEyhtV-cuM\n",
      "3225.0 iphone 12 64gb- branco, , color branco https://www.google.com/url?url=https://www.trackerstore.com.br/MLB-3569775671-iphone-12-64gb-_JM%3Fvariation%3D179700168252%26srsltid%3DAfmBOorEhWBwS-egEVooEw02Fnn_c9XhuKYDFllbZ77tN0_jQ7ylIV7iRWA&rct=j&q=&esrc=s&opi=95576897&sa=U&ved=0ahUKEwig0q3F0LyFAxXmpJUCHYIvDxwQgOUECP0S&usg=AOvVaw2wqaVC8qayJzOPdLF24-TL\n",
      "3499.0 iphone 12 apple 64gb, preto, tela 6.1, câmera dupla 12mp, ios - mgj53br/a https://www.google.com/url?url=https://www.somemorias.com.br/iphone-12-apple-64gb-preto-tela-61-camera-dupla-12mp-ios-mgj53bra/prod-10296701/&rct=j&q=&esrc=s&opi=95576897&sa=U&ved=0ahUKEwig0q3F0LyFAxXmpJUCHYIvDxwQgOUECNMT&usg=AOvVaw3jswziRVXUbgULNeO_LQB-\n"
     ]
    }
   ],
   "source": [
    "nav.get(\"https://www.google.com/\")\n",
    "\n",
    "produto = \"iphone 12 64 gb\"\n",
    "produto = produto.lower()\n",
    "termos_banidos = \"mini watch\"\n",
    "termos_banidos = termos_banidos.lower()\n",
    "lista_termos_banidos = termos_banidos.split(\" \")\n",
    "lista_termos_nome_produto = produto.split(\" \")\n",
    "preco_minimo = 3000\n",
    "preco_maximo = 3500\n",
    "\n",
    "# pesquisando pelo produto no google\n",
    "nav.find_element(\"xpath\", '/html/body/div[1]/div[3]/form/div[1]/div[1]/div[1]/div/div[2]/textarea').send_keys(produto, Keys.ENTER)\n",
    "\n",
    "# entrar na aba shopping\n",
    "elemento = nav.find_element(\"xpath\", '/html/body/div[4]/div/div[5]/div/div[1]/div/div/div[1]/div/div/div/div/div[1]/div[2]/a')\n",
    "elemento.click()\n",
    "\n",
    "# pegando as informações dos produtos\n",
    "lista_resultados = nav.find_elements(\"class name\", \"i0X6df\")\n",
    "\n",
    "for resultado in lista_resultados:\n",
    "    nome = resultado.find_element(\"class name\", \"tAxDx\").text\n",
    "    nome = nome.lower()\n",
    "\n",
    "    # analisar se ele não tem nenhum termo banido\n",
    "    tem_termos_banidos = False\n",
    "    for palavra in lista_termos_banidos:\n",
    "        if palavra in nome:\n",
    "            tem_termos_banidos = True\n",
    "\n",
    "    # analisar se ele tem TODOS os termos do nome do produto\n",
    "    tem_todos_termos_produtos = True\n",
    "    for palavra in lista_termos_nome_produto:\n",
    "        if palavra not in nome:\n",
    "            tem_todos_termos_produtos = False\n",
    "\n",
    "    # selecionar só os elementos que tem_termos_banidos = False e ao mesmo tempo tem_todos_termos_produtos = True\n",
    "    if not tem_termos_banidos and tem_todos_termos_produtos:\n",
    "        preco = resultado.find_element(\"class name\", \"a8Pemb\").text\n",
    "        preco = preco.replace(\"R$\", \"\").replace(\" \", \"\").replace(\".\", \"\").replace(\",\", \".\")\n",
    "        preco = float(preco)\n",
    "\n",
    "        preco_minimo = float(preco_minimo)\n",
    "        preco_maximo = float(preco_maximo)\n",
    "\n",
    "        # se o preco está entre preco_minimo e preco_maximo\n",
    "        if preco_minimo <= preco <= preco_maximo:\n",
    "            elemento_referencia = resultado.find_element('class name', 'bONr3b')\n",
    "            elemento_pai = elemento_referencia.find_element('xpath', '..') #pegando o elemento que vem logo antes dele ('pai')\n",
    "            link = elemento_pai.get_attribute('href')\n",
    "            \n",
    "            print(preco, nome, link)\n",
    "\n"
   ]
  }
 ],
 "metadata": {
  "kernelspec": {
   "display_name": "Python 3",
   "language": "python",
   "name": "python3"
  },
  "language_info": {
   "codemirror_mode": {
    "name": "ipython",
    "version": 3
   },
   "file_extension": ".py",
   "mimetype": "text/x-python",
   "name": "python",
   "nbconvert_exporter": "python",
   "pygments_lexer": "ipython3",
   "version": "3.12.2"
  }
 },
 "nbformat": 4,
 "nbformat_minor": 2
}
