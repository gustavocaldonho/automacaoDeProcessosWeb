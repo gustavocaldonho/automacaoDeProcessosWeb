{
 "cells": [
  {
   "cell_type": "code",
   "execution_count": 66,
   "metadata": {},
   "outputs": [
    {
     "data": {
      "text/html": [
       "<div>\n",
       "<style scoped>\n",
       "    .dataframe tbody tr th:only-of-type {\n",
       "        vertical-align: middle;\n",
       "    }\n",
       "\n",
       "    .dataframe tbody tr th {\n",
       "        vertical-align: top;\n",
       "    }\n",
       "\n",
       "    .dataframe thead th {\n",
       "        text-align: right;\n",
       "    }\n",
       "</style>\n",
       "<table border=\"1\" class=\"dataframe\">\n",
       "  <thead>\n",
       "    <tr style=\"text-align: right;\">\n",
       "      <th></th>\n",
       "      <th>Nome</th>\n",
       "      <th>Termos banidos</th>\n",
       "      <th>Preço mínimo</th>\n",
       "      <th>Preço máximo</th>\n",
       "    </tr>\n",
       "  </thead>\n",
       "  <tbody>\n",
       "    <tr>\n",
       "      <th>0</th>\n",
       "      <td>iphone 12 64gb</td>\n",
       "      <td>mini watch</td>\n",
       "      <td>3000</td>\n",
       "      <td>3500</td>\n",
       "    </tr>\n",
       "    <tr>\n",
       "      <th>1</th>\n",
       "      <td>rtx 3060</td>\n",
       "      <td>zota galax</td>\n",
       "      <td>4000</td>\n",
       "      <td>4500</td>\n",
       "    </tr>\n",
       "  </tbody>\n",
       "</table>\n",
       "</div>"
      ],
      "text/plain": [
       "             Nome Termos banidos  Preço mínimo  Preço máximo\n",
       "0  iphone 12 64gb     mini watch          3000          3500\n",
       "1        rtx 3060     zota galax          4000          4500"
      ]
     },
     "metadata": {},
     "output_type": "display_data"
    }
   ],
   "source": [
    "from selenium import webdriver\n",
    "from selenium.webdriver.common.keys import Keys\n",
    "import pandas as pd\n",
    "\n",
    "nav = webdriver.Chrome()\n",
    "\n",
    "tabela_produtos = pd.read_excel(\"./buscas.xlsx\")\n",
    "\n",
    "display(tabela_produtos)"
   ]
  },
  {
   "cell_type": "code",
   "execution_count": 67,
   "metadata": {},
   "outputs": [],
   "source": [
    "def busca_google_shopping(nav, produto, termos_banidos, preco_minimo, preco_maximo):\n",
    "    produto = produto.lower()\n",
    "    termos_banidos = termos_banidos.lower()\n",
    "    lista_termos_banidos = termos_banidos.split(\" \")\n",
    "    lista_termos_nome_produto = produto.split(\" \")\n",
    "    \n",
    "    lista_ofertas = []\n",
    "\n",
    "    # pesquisando pelo produto no google\n",
    "    nav.get(\"https://www.google.com/\")\n",
    "    nav.find_element(\"xpath\", '/html/body/div[1]/div[3]/form/div[1]/div[1]/div[1]/div/div[2]/textarea').send_keys(produto, Keys.ENTER)\n",
    "\n",
    "    # entrar na aba shopping\n",
    "    elemento = nav.find_element(\"xpath\", '/html/body/div[4]/div/div[5]/div/div[1]/div/div/div[1]/div/div/div/div/div[1]/div[2]/a')\n",
    "    elemento.click()\n",
    "\n",
    "    # pegando as informações dos produtos\n",
    "    lista_resultados = nav.find_elements(\"class name\", \"i0X6df\")\n",
    "\n",
    "    for resultado in lista_resultados:\n",
    "        nome = resultado.find_element(\"class name\", \"tAxDx\").text\n",
    "        nome = nome.lower()\n",
    "\n",
    "        # analisar se ele não tem nenhum termo banido\n",
    "        tem_termos_banidos = False\n",
    "        for palavra in lista_termos_banidos:\n",
    "            if palavra in nome:\n",
    "                tem_termos_banidos = True\n",
    "\n",
    "        # analisar se ele tem TODOS os termos do nome do produto\n",
    "        tem_todos_termos_produtos = True\n",
    "        for palavra in lista_termos_nome_produto:\n",
    "            if palavra not in nome:\n",
    "                tem_todos_termos_produtos = False\n",
    "\n",
    "        # selecionar só os elementos que tem_termos_banidos = False e ao mesmo tempo tem_todos_termos_produtos = True\n",
    "        if not tem_termos_banidos and tem_todos_termos_produtos:\n",
    "            preco = resultado.find_element(\"class name\", \"a8Pemb\").text\n",
    "            preco = preco.replace(\"R$\", \"\").replace(\" \", \"\").replace(\".\", \"\").replace(\",\", \".\")\n",
    "            preco = float(preco)\n",
    "\n",
    "            preco_minimo = float(preco_minimo)\n",
    "            preco_maximo = float(preco_maximo)\n",
    "\n",
    "            # se o preco está entre preco_minimo e preco_maximo\n",
    "            if preco_minimo <= preco <= preco_maximo:\n",
    "                elemento_referencia = resultado.find_element('class name', 'bONr3b')\n",
    "                elemento_pai = elemento_referencia.find_element('xpath', '..') #pegando o elemento que vem logo antes dele ('pai')\n",
    "                link = elemento_pai.get_attribute('href')\n",
    "                lista_ofertas.append((nome, preco, link))\n",
    "    \n",
    "    return lista_ofertas"
   ]
  },
  {
   "cell_type": "code",
   "execution_count": 68,
   "metadata": {},
   "outputs": [
    {
     "name": "stdout",
     "output_type": "stream",
     "text": [
      "3\n"
     ]
    },
    {
     "data": {
      "text/plain": [
       "[('apple iphone 12 64gb 6.1 azul',\n",
       "  3150.99,\n",
       "  'https://www.google.com/url?url=https://www.tradeinn.com/techinn/pt/apple-iphone-12-64gb-6.1/137821872/p%3Futm_source%3Dgoogle_products%26utm_medium%3Dmerchant%26id_producte%3D11865359%26country%3Dbr%26srsltid%3DAfmBOoqvW8l2WQLeCx6UUr-bV_BENnVyw2HBohl9gBeee-VvPp06ArHrbYI&rct=j&q=&esrc=s&opi=95576897&sa=U&ved=0ahUKEwjR9t6j2byFAxWHppUCHeCGCxIQgOUECL4Q&usg=AOvVaw324-tuAbXJPfXbSCgfcaVG'),\n",
       " ('iphone 12 64gb- branco, , color branco',\n",
       "  3225.0,\n",
       "  'https://www.google.com/url?url=https://www.trackerstore.com.br/MLB-3569775671-iphone-12-64gb-_JM%3Fvariation%3D179700168252%26srsltid%3DAfmBOop6E6rHkuJMauKcYDhkqdecbCyDxHxT-65TXxp1aW9SMn6yJFaZQ3c&rct=j&q=&esrc=s&opi=95576897&sa=U&ved=0ahUKEwjR9t6j2byFAxWHppUCHeCGCxIQgOUECNMT&usg=AOvVaw210oMp4PRLsxpRB10U3rY_'),\n",
       " ('iphone 12 apple 64gb, preto, tela 6.1, câmera dupla 12mp, ios - mgj53br/a',\n",
       "  3499.0,\n",
       "  'https://www.google.com/url?url=https://www.somemorias.com.br/iphone-12-apple-64gb-preto-tela-61-camera-dupla-12mp-ios-mgj53bra/prod-10296701/&rct=j&q=&esrc=s&opi=95576897&sa=U&ved=0ahUKEwjR9t6j2byFAxWHppUCHeCGCxIQgOUECJcU&usg=AOvVaw2XOVHcjXWR0bJfDjg3T26N')]"
      ]
     },
     "metadata": {},
     "output_type": "display_data"
    }
   ],
   "source": [
    "produto = \"iphone 12 64 gb\"\n",
    "termos_banidos = \"mini watch\"\n",
    "preco_minimo = 3000\n",
    "preco_maximo = 3500\n",
    "\n",
    "lista_ofertas_google_shopping = busca_google_shopping(nav, produto, termos_banidos, preco_minimo, preco_maximo)\n",
    "display(lista_ofertas_google_shopping)"
   ]
  }
 ],
 "metadata": {
  "kernelspec": {
   "display_name": "Python 3",
   "language": "python",
   "name": "python3"
  },
  "language_info": {
   "codemirror_mode": {
    "name": "ipython",
    "version": 3
   },
   "file_extension": ".py",
   "mimetype": "text/x-python",
   "name": "python",
   "nbconvert_exporter": "python",
   "pygments_lexer": "ipython3",
   "version": "3.12.2"
  }
 },
 "nbformat": 4,
 "nbformat_minor": 2
}
